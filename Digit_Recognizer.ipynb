{
  "nbformat": 4,
  "nbformat_minor": 0,
  "metadata": {
    "colab": {
      "name": "Untitled4.ipynb",
      "provenance": [],
      "collapsed_sections": [],
      "mount_file_id": "https://github.com/abhibootcamp/Data-Science-Abhishek/blob/master/Digit_Recognizer.ipynb",
      "authorship_tag": "ABX9TyNsVphvVjxd95vOEDjc/x1G",
      "include_colab_link": true
    },
    "kernelspec": {
      "name": "python3",
      "display_name": "Python 3"
    },
    "accelerator": "GPU"
  },
  "cells": [
    {
      "cell_type": "markdown",
      "metadata": {
        "id": "view-in-github",
        "colab_type": "text"
      },
      "source": [
        "<a href=\"https://colab.research.google.com/github/abhibootcamp/Data-Science-Abhishek/blob/master/Digit_Recognizer.ipynb\" target=\"_parent\"><img src=\"https://colab.research.google.com/assets/colab-badge.svg\" alt=\"Open In Colab\"/></a>"
      ]
    },
    {
      "cell_type": "markdown",
      "metadata": {
        "id": "XGjTgvsur8Mn"
      },
      "source": [
        "<h1>Digit Recognizer System (Kaggle Problem)</h1>"
      ]
    },
    {
      "cell_type": "markdown",
      "metadata": {
        "id": "Mhk4mClGsmjY"
      },
      "source": [
        "<p><b>First of all we have to import required library which is use in this project </b> </p>\r\n",
        "\r\n",
        "\r\n",
        "*   TensorFlow\r\n",
        "*   Numpy\r\n",
        "*   Pandas\r\n",
        "\r\n",
        "\r\n",
        "\r\n"
      ]
    },
    {
      "cell_type": "code",
      "metadata": {
        "id": "iywLCwx3NoL7"
      },
      "source": [
        "import tensorflow as tf\r\n",
        "import numpy as np\r\n",
        "import pandas as pd"
      ],
      "execution_count": 1,
      "outputs": []
    },
    {
      "cell_type": "markdown",
      "metadata": {
        "id": "uHTrdXJht3mh"
      },
      "source": [
        "<p><b>Now we have to read the CSV data using Pandas</b></p>"
      ]
    },
    {
      "cell_type": "code",
      "metadata": {
        "id": "WOt9be3rNwS9"
      },
      "source": [
        "train = pd.read_csv('drive/MyDrive/Colab Notebooks/train.csv')\r\n",
        "test = pd.read_csv('drive/MyDrive/Colab Notebooks/test.csv')\r\n",
        "train_features = train.drop(['label'], axis=1)\r\n",
        "train_labels = train['label']"
      ],
      "execution_count": 3,
      "outputs": []
    },
    {
      "cell_type": "markdown",
      "metadata": {
        "id": "vD_uufJ4uKBi"
      },
      "source": [
        "<b>Convert the Pandas DataFrame in Numpy array so that it is use in model to train</b>"
      ]
    },
    {
      "cell_type": "code",
      "metadata": {
        "id": "Ps688YgIN-iG"
      },
      "source": [
        "np_train_features = np.array(train_features).astype(np.float64)\r\n",
        "np_train_labels = np.array(train_labels)\r\n",
        "np_test_features = np.array(test).astype(np.float64)"
      ],
      "execution_count": 4,
      "outputs": []
    },
    {
      "cell_type": "markdown",
      "metadata": {
        "id": "L3R0mYGcuc-T"
      },
      "source": [
        "<b>Declaring Normalize function so that any value not have huge impact on building up ML Model</b>"
      ]
    },
    {
      "cell_type": "code",
      "metadata": {
        "id": "0ovYGdpJOkbc"
      },
      "source": [
        "def normalize(arr):\r\n",
        "  for i in range(len(arr)):\r\n",
        "    for j in range(len(arr[i])):\r\n",
        "      arr[i][j] /= 255\r\n",
        "  return arr"
      ],
      "execution_count": 5,
      "outputs": []
    },
    {
      "cell_type": "code",
      "metadata": {
        "id": "sJRHqwFbOP9o"
      },
      "source": [
        "np_test_features = normalize(np_test_features)\r\n",
        "np_train_features = normalize(np_train_features)"
      ],
      "execution_count": 6,
      "outputs": []
    },
    {
      "cell_type": "markdown",
      "metadata": {
        "id": "OLwuMFa_vIIA"
      },
      "source": [
        "\r\n",
        "\r\n",
        "*   **Creating First hidden Dense layer with 128 Neuron and Relu Activation Function so that it can handle non-linearity problem.**\r\n",
        "*   **Creating Output layer with 10 different output each one give the probability of occurence of each Digit.**\r\n",
        "\r\n"
      ]
    },
    {
      "cell_type": "code",
      "metadata": {
        "id": "n7vFbyYNOfsd"
      },
      "source": [
        "model = tf.keras.Sequential([\r\n",
        "    tf.keras.layers.Dense(128, activation=tf.nn.relu),\r\n",
        "    tf.keras.layers.Dense(128, activation=tf.nn.relu),\r\n",
        "    tf.keras.layers.Dense(10, activation=tf.nn.softmax)\r\n",
        "])"
      ],
      "execution_count": 7,
      "outputs": []
    },
    {
      "cell_type": "markdown",
      "metadata": {
        "id": "6w5qa-8Dv973"
      },
      "source": [
        "**Compile the model where Optimizer 'adam' adjust the weight of Neuron. and for finding loss in each traverse we use SparseCategoricalCrossentropy()**"
      ]
    },
    {
      "cell_type": "code",
      "metadata": {
        "id": "qduF9Ubckqhm"
      },
      "source": [
        "model.compile(optimizer='adam',\r\n",
        "              loss=tf.keras.losses.SparseCategoricalCrossentropy(),\r\n",
        "              metrics=['accuracy'])"
      ],
      "execution_count": 8,
      "outputs": []
    },
    {
      "cell_type": "markdown",
      "metadata": {
        "id": "7gPcX54HwaW_"
      },
      "source": [
        "**Train the model by fitting Data to it.**"
      ]
    },
    {
      "cell_type": "code",
      "metadata": {
        "colab": {
          "base_uri": "https://localhost:8080/"
        },
        "id": "15ujyAE6kw0e",
        "outputId": "1334fc8b-46ed-45a5-ca17-e2be1255b0f5"
      },
      "source": [
        "model.fit(np_train_features,np_train_labels, epochs=50)"
      ],
      "execution_count": 9,
      "outputs": [
        {
          "output_type": "stream",
          "text": [
            "Epoch 1/50\n",
            "1313/1313 [==============================] - 3s 2ms/step - loss: 0.2615 - accuracy: 0.9234\n",
            "Epoch 2/50\n",
            "1313/1313 [==============================] - 3s 2ms/step - loss: 0.1083 - accuracy: 0.9663\n",
            "Epoch 3/50\n",
            "1313/1313 [==============================] - 2s 2ms/step - loss: 0.0752 - accuracy: 0.9763\n",
            "Epoch 4/50\n",
            "1313/1313 [==============================] - 2s 2ms/step - loss: 0.0559 - accuracy: 0.9816\n",
            "Epoch 5/50\n",
            "1313/1313 [==============================] - 2s 2ms/step - loss: 0.0411 - accuracy: 0.9868\n",
            "Epoch 6/50\n",
            "1313/1313 [==============================] - 3s 2ms/step - loss: 0.0349 - accuracy: 0.9881\n",
            "Epoch 7/50\n",
            "1313/1313 [==============================] - 2s 2ms/step - loss: 0.0287 - accuracy: 0.9905\n",
            "Epoch 8/50\n",
            "1313/1313 [==============================] - 3s 2ms/step - loss: 0.0254 - accuracy: 0.9916\n",
            "Epoch 9/50\n",
            "1313/1313 [==============================] - 3s 2ms/step - loss: 0.0192 - accuracy: 0.9935\n",
            "Epoch 10/50\n",
            "1313/1313 [==============================] - 3s 2ms/step - loss: 0.0179 - accuracy: 0.9939\n",
            "Epoch 11/50\n",
            "1313/1313 [==============================] - 3s 2ms/step - loss: 0.0167 - accuracy: 0.9943\n",
            "Epoch 12/50\n",
            "1313/1313 [==============================] - 3s 2ms/step - loss: 0.0132 - accuracy: 0.9954\n",
            "Epoch 13/50\n",
            "1313/1313 [==============================] - 3s 2ms/step - loss: 0.0167 - accuracy: 0.9944\n",
            "Epoch 14/50\n",
            "1313/1313 [==============================] - 3s 2ms/step - loss: 0.0118 - accuracy: 0.9960\n",
            "Epoch 15/50\n",
            "1313/1313 [==============================] - 3s 2ms/step - loss: 0.0122 - accuracy: 0.9959\n",
            "Epoch 16/50\n",
            "1313/1313 [==============================] - 3s 2ms/step - loss: 0.0124 - accuracy: 0.9959\n",
            "Epoch 17/50\n",
            "1313/1313 [==============================] - 3s 2ms/step - loss: 0.0094 - accuracy: 0.9973\n",
            "Epoch 18/50\n",
            "1313/1313 [==============================] - 2s 2ms/step - loss: 0.0117 - accuracy: 0.9961\n",
            "Epoch 19/50\n",
            "1313/1313 [==============================] - 3s 2ms/step - loss: 0.0093 - accuracy: 0.9970\n",
            "Epoch 20/50\n",
            "1313/1313 [==============================] - 3s 2ms/step - loss: 0.0097 - accuracy: 0.9970\n",
            "Epoch 21/50\n",
            "1313/1313 [==============================] - 3s 2ms/step - loss: 0.0104 - accuracy: 0.9964\n",
            "Epoch 22/50\n",
            "1313/1313 [==============================] - 3s 2ms/step - loss: 0.0111 - accuracy: 0.9966\n",
            "Epoch 23/50\n",
            "1313/1313 [==============================] - 2s 2ms/step - loss: 0.0071 - accuracy: 0.9977\n",
            "Epoch 24/50\n",
            "1313/1313 [==============================] - 3s 2ms/step - loss: 0.0114 - accuracy: 0.9965\n",
            "Epoch 25/50\n",
            "1313/1313 [==============================] - 2s 2ms/step - loss: 0.0086 - accuracy: 0.9974\n",
            "Epoch 26/50\n",
            "1313/1313 [==============================] - 2s 2ms/step - loss: 0.0089 - accuracy: 0.9970\n",
            "Epoch 27/50\n",
            "1313/1313 [==============================] - 3s 2ms/step - loss: 0.0063 - accuracy: 0.9980\n",
            "Epoch 28/50\n",
            "1313/1313 [==============================] - 2s 2ms/step - loss: 0.0093 - accuracy: 0.9972\n",
            "Epoch 29/50\n",
            "1313/1313 [==============================] - 3s 2ms/step - loss: 0.0096 - accuracy: 0.9974\n",
            "Epoch 30/50\n",
            "1313/1313 [==============================] - 2s 2ms/step - loss: 0.0060 - accuracy: 0.9981\n",
            "Epoch 31/50\n",
            "1313/1313 [==============================] - 2s 2ms/step - loss: 0.0085 - accuracy: 0.9977\n",
            "Epoch 32/50\n",
            "1313/1313 [==============================] - 3s 2ms/step - loss: 0.0087 - accuracy: 0.9973\n",
            "Epoch 33/50\n",
            "1313/1313 [==============================] - 3s 2ms/step - loss: 0.0052 - accuracy: 0.9987\n",
            "Epoch 34/50\n",
            "1313/1313 [==============================] - 3s 2ms/step - loss: 0.0060 - accuracy: 0.9982\n",
            "Epoch 35/50\n",
            "1313/1313 [==============================] - 3s 2ms/step - loss: 0.0087 - accuracy: 0.9974\n",
            "Epoch 36/50\n",
            "1313/1313 [==============================] - 3s 2ms/step - loss: 0.0057 - accuracy: 0.9985\n",
            "Epoch 37/50\n",
            "1313/1313 [==============================] - 3s 2ms/step - loss: 0.0054 - accuracy: 0.9985\n",
            "Epoch 38/50\n",
            "1313/1313 [==============================] - 3s 2ms/step - loss: 0.0109 - accuracy: 0.9972\n",
            "Epoch 39/50\n",
            "1313/1313 [==============================] - 3s 2ms/step - loss: 0.0076 - accuracy: 0.9980\n",
            "Epoch 40/50\n",
            "1313/1313 [==============================] - 3s 2ms/step - loss: 0.0039 - accuracy: 0.9988\n",
            "Epoch 41/50\n",
            "1313/1313 [==============================] - 3s 2ms/step - loss: 0.0075 - accuracy: 0.9979\n",
            "Epoch 42/50\n",
            "1313/1313 [==============================] - 3s 2ms/step - loss: 0.0075 - accuracy: 0.9981\n",
            "Epoch 43/50\n",
            "1313/1313 [==============================] - 2s 2ms/step - loss: 0.0063 - accuracy: 0.9980\n",
            "Epoch 44/50\n",
            "1313/1313 [==============================] - 2s 2ms/step - loss: 0.0077 - accuracy: 0.9980\n",
            "Epoch 45/50\n",
            "1313/1313 [==============================] - 3s 2ms/step - loss: 0.0036 - accuracy: 0.9990\n",
            "Epoch 46/50\n",
            "1313/1313 [==============================] - 3s 2ms/step - loss: 0.0088 - accuracy: 0.9976\n",
            "Epoch 47/50\n",
            "1313/1313 [==============================] - 3s 2ms/step - loss: 0.0017 - accuracy: 0.9996\n",
            "Epoch 48/50\n",
            "1313/1313 [==============================] - 3s 2ms/step - loss: 0.0093 - accuracy: 0.9979\n",
            "Epoch 49/50\n",
            "1313/1313 [==============================] - 2s 2ms/step - loss: 0.0054 - accuracy: 0.9985\n",
            "Epoch 50/50\n",
            "1313/1313 [==============================] - 2s 2ms/step - loss: 0.0070 - accuracy: 0.9980\n"
          ],
          "name": "stdout"
        },
        {
          "output_type": "execute_result",
          "data": {
            "text/plain": [
              "<tensorflow.python.keras.callbacks.History at 0x7f569bfe65c0>"
            ]
          },
          "metadata": {
            "tags": []
          },
          "execution_count": 9
        }
      ]
    },
    {
      "cell_type": "markdown",
      "metadata": {
        "id": "5v15s0ZVwk84"
      },
      "source": [
        "**Predicting the result and bring it into required format.**"
      ]
    },
    {
      "cell_type": "code",
      "metadata": {
        "id": "cg9QfGB6lkf-"
      },
      "source": [
        "res_dataset = model.predict(np_test_features)\r\n",
        "res = []\r\n",
        "for i in range(len(res_dataset)):\r\n",
        "  max = -1\r\n",
        "  index = -1\r\n",
        "  for j in range(len(res_dataset[i])):\r\n",
        "    if res_dataset[i][j] > max:\r\n",
        "      max = res_dataset[i][j]\r\n",
        "      index = j\r\n",
        "  res.append(index)"
      ],
      "execution_count": 10,
      "outputs": []
    },
    {
      "cell_type": "markdown",
      "metadata": {
        "id": "MMaRs9eWw3vZ"
      },
      "source": [
        "**Converting the result into CSV format and Storing**"
      ]
    },
    {
      "cell_type": "code",
      "metadata": {
        "colab": {
          "base_uri": "https://localhost:8080/",
          "height": 419
        },
        "id": "EtigBAPimXgh",
        "outputId": "0c1e2d8a-12a3-4631-af6f-be1eb207f331"
      },
      "source": [
        "final_sub=pd.DataFrame()\r\n",
        "final_sub['ImageId']=range(1,len(res)+1)\r\n",
        "final_sub['Label']=res\r\n",
        "final_sub"
      ],
      "execution_count": 11,
      "outputs": [
        {
          "output_type": "execute_result",
          "data": {
            "text/html": [
              "<div>\n",
              "<style scoped>\n",
              "    .dataframe tbody tr th:only-of-type {\n",
              "        vertical-align: middle;\n",
              "    }\n",
              "\n",
              "    .dataframe tbody tr th {\n",
              "        vertical-align: top;\n",
              "    }\n",
              "\n",
              "    .dataframe thead th {\n",
              "        text-align: right;\n",
              "    }\n",
              "</style>\n",
              "<table border=\"1\" class=\"dataframe\">\n",
              "  <thead>\n",
              "    <tr style=\"text-align: right;\">\n",
              "      <th></th>\n",
              "      <th>ImageId</th>\n",
              "      <th>Label</th>\n",
              "    </tr>\n",
              "  </thead>\n",
              "  <tbody>\n",
              "    <tr>\n",
              "      <th>0</th>\n",
              "      <td>1</td>\n",
              "      <td>2</td>\n",
              "    </tr>\n",
              "    <tr>\n",
              "      <th>1</th>\n",
              "      <td>2</td>\n",
              "      <td>0</td>\n",
              "    </tr>\n",
              "    <tr>\n",
              "      <th>2</th>\n",
              "      <td>3</td>\n",
              "      <td>9</td>\n",
              "    </tr>\n",
              "    <tr>\n",
              "      <th>3</th>\n",
              "      <td>4</td>\n",
              "      <td>9</td>\n",
              "    </tr>\n",
              "    <tr>\n",
              "      <th>4</th>\n",
              "      <td>5</td>\n",
              "      <td>3</td>\n",
              "    </tr>\n",
              "    <tr>\n",
              "      <th>...</th>\n",
              "      <td>...</td>\n",
              "      <td>...</td>\n",
              "    </tr>\n",
              "    <tr>\n",
              "      <th>27995</th>\n",
              "      <td>27996</td>\n",
              "      <td>9</td>\n",
              "    </tr>\n",
              "    <tr>\n",
              "      <th>27996</th>\n",
              "      <td>27997</td>\n",
              "      <td>7</td>\n",
              "    </tr>\n",
              "    <tr>\n",
              "      <th>27997</th>\n",
              "      <td>27998</td>\n",
              "      <td>3</td>\n",
              "    </tr>\n",
              "    <tr>\n",
              "      <th>27998</th>\n",
              "      <td>27999</td>\n",
              "      <td>9</td>\n",
              "    </tr>\n",
              "    <tr>\n",
              "      <th>27999</th>\n",
              "      <td>28000</td>\n",
              "      <td>2</td>\n",
              "    </tr>\n",
              "  </tbody>\n",
              "</table>\n",
              "<p>28000 rows × 2 columns</p>\n",
              "</div>"
            ],
            "text/plain": [
              "       ImageId  Label\n",
              "0            1      2\n",
              "1            2      0\n",
              "2            3      9\n",
              "3            4      9\n",
              "4            5      3\n",
              "...        ...    ...\n",
              "27995    27996      9\n",
              "27996    27997      7\n",
              "27997    27998      3\n",
              "27998    27999      9\n",
              "27999    28000      2\n",
              "\n",
              "[28000 rows x 2 columns]"
            ]
          },
          "metadata": {
            "tags": []
          },
          "execution_count": 11
        }
      ]
    },
    {
      "cell_type": "code",
      "metadata": {
        "id": "bS7U-TYXmmrE"
      },
      "source": [
        "final_sub.to_csv(\"test_result2.csv\",index=False)"
      ],
      "execution_count": 12,
      "outputs": []
    },
    {
      "cell_type": "code",
      "metadata": {
        "id": "V6d_Jjv-1YGQ"
      },
      "source": [
        ""
      ],
      "execution_count": null,
      "outputs": []
    }
  ]
}